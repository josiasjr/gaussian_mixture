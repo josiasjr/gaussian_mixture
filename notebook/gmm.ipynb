{
 "cells": [
  {
   "cell_type": "code",
   "execution_count": 1,
   "metadata": {},
   "outputs": [
    {
     "data": {
      "text/html": [
       "<style>.container { width:90% !important; }</style>"
      ],
      "text/plain": [
       "<IPython.core.display.HTML object>"
      ]
     },
     "metadata": {},
     "output_type": "display_data"
    }
   ],
   "source": [
    "import pandas as pd\n",
    "import numpy as np\n",
    "from IPython.core.display import display, HTML\n",
    "display(HTML(\"<style>.container { width:90% !important; }</style>\"))\n",
    "#%matplotlib\n",
    "%matplotlib inline\n",
    "import matplotlib.style\n",
    "matplotlib.style.use('seaborn-whitegrid')# ggplot, seaborn-whitegrid print(plt.style.available)\n",
    "import matplotlib.pyplot as plt\n",
    "plt.rcParams['figure.figsize'] = (16, 9)\n",
    "from sklearn.mixture import GaussianMixture, BayesianGaussianMixture\n",
    "from sklearn.covariance import EmpiricalCovariance, MinCovDet\n",
    "from sklearn.preprocessing import StandardScaler"
   ]
  },
  {
   "cell_type": "code",
   "execution_count": 2,
   "metadata": {
    "collapsed": true
   },
   "outputs": [],
   "source": [
    "#a = [np.random.normal(10,5) + 50 for x in range(0,10000)]\n",
    "#a = [np.random.lognormal(5,0.4) for x in range(0,10000)]\n",
    "#a = [np.random.chisquare(4)*20 for x in range(0,10000)]\n",
    "a = [np.random.gamma(1.5,100) for x in range(0,1000)]\n",
    "b = [np.random.normal(450,50) + 100 for x in range(0,1000)]\n",
    "df1 = pd.DataFrame(a)\n",
    "df2 = pd.DataFrame(b)\n",
    "df3 = pd.concat([df1,df2])\n",
    "#df3 = df3.apply(lambda x: np.log(x+1))\n",
    "#df1.plot(kind='kde', xlim=(0, 500))\n",
    "\n",
    "#df3.plot(kind='kde')\n",
    "#df3.plot(kind='hist', bins=200)\n",
    "#df2.plot.kde()"
   ]
  },
  {
   "cell_type": "code",
   "execution_count": null,
   "metadata": {
    "collapsed": true
   },
   "outputs": [],
   "source": [
    "#df3.to_csv('hist.csv', index=False, header=False)"
   ]
  },
  {
   "cell_type": "code",
   "execution_count": 3,
   "metadata": {
    "collapsed": true
   },
   "outputs": [],
   "source": [
    "def gmm_cost(data):\n",
    "    ind, gs = [], []\n",
    "    for i in np.power(2, np.arange(0, int(np.log2(len(data))))):\n",
    "        gmm = GaussianMixture(i)\n",
    "        gmm.fit(data)\n",
    "        ind.append(i)\n",
    "        #gs.append([np.log1p(gmm.aic(train)), np.log1p(gmm.bic(train)), gmm.score_samples(train).std()])\n",
    "        gs.append([gmm.aic(data), gmm.bic(data), 1000*gmm.score_samples(data).std()])\n",
    "    return pd.DataFrame(gs, index=ind, columns=['AIC','BIC','STD'])"
   ]
  },
  {
   "cell_type": "code",
   "execution_count": 4,
   "metadata": {
    "collapsed": true
   },
   "outputs": [
    {
     "data": {
      "text/plain": [
       "<matplotlib.axes._subplots.AxesSubplot at 0x7f43844866d8>"
      ]
     },
     "execution_count": 4,
     "metadata": {},
     "output_type": "execute_result"
    },
    {
     "data": {
      "image/png": "[encoded data removed]",
      "text/plain": [
       "<Figure size 432x288 with 1 Axes>"
      ]
     },
     "metadata": {
      "needs_background": "light"
     },
     "output_type": "display_data"
    }
   ],
   "source": [
    "gmm_cost(df3).plot(marker='o', logx=True)"
   ]
  },
  {
   "cell_type": "code",
   "execution_count": 5,
   "metadata": {
    "collapsed": true
   },
   "outputs": [
    {
     "name": "stdout",
     "output_type": "stream",
     "text": [
      "[0.47280758 0.52719242]\n",
      "[[131.84985866]\n",
      " [546.46073672]]\n",
      "[[[8142.19084746]]\n",
      "\n",
      " [[3363.16132727]]]\n"
     ]
    }
   ],
   "source": [
    "gmm = GaussianMixture(2, n_init=10)\n",
    "#gmm = BayesianGaussianMixture(2)\n",
    "gmm.fit(df3)\n",
    "print(gmm.weights_)\n",
    "print(gmm.means_)\n",
    "print(gmm.covariances_)"
   ]
  },
  {
   "cell_type": "code",
   "execution_count": 6,
   "metadata": {
    "collapsed": true
   },
   "outputs": [
    {
     "name": "stdout",
     "output_type": "stream",
     "text": [
      "[1.000e+00 2.000e+00 4.000e+00 8.000e+00 1.600e+01 3.200e+01 6.400e+01\n",
      " 1.280e+02 2.560e+02 5.120e+02 1.024e+03]\n"
     ]
    },
    {
     "data": {
      "text/plain": [
       "array([   1,    2,    4,    8,   16,   32,   64,  128,  256,  512, 1024])"
      ]
     },
     "execution_count": 6,
     "metadata": {},
     "output_type": "execute_result"
    }
   ],
   "source": [
    "print(np.logspace(0, 10, 11, base=2))\n",
    "1000*np.linspace(1, 1, 11)\n",
    "np.power(2, np.arange(0, 11))"
   ]
  },
  {
   "cell_type": "code",
   "execution_count": 7,
   "metadata": {
    "collapsed": true
   },
   "outputs": [
    {
     "name": "stdout",
     "output_type": "stream",
     "text": [
      "1 27257.202594115097 27268.40439903418\n",
      "2 25480.719854210667 25508.724366508377\n",
      "4 25243.53502449042 25305.144951545382\n",
      "8 25176.878908562183 25305.69966513165\n",
      "16 25172.242780156063 25435.48519575454\n",
      "32 25216.082314705698 25748.168048362197\n",
      "64 25228.537789666323 26298.31015943886\n",
      "128 25423.687465333867 27568.833107338483\n",
      "256 25552.32168196362 29848.213868432398\n",
      "512 25134.517355350574 33731.902630747674\n",
      "1024 22918.957724432134 40119.32917768587\n"
     ]
    }
   ],
   "source": [
    "a = np.power(2, np.arange(0, 11))\n",
    "for i in a:\n",
    "    gmm = GaussianMixture(i)\n",
    "    gmm.fit(df3)\n",
    "    print(i, gmm.aic(df3), gmm.bic(df3))"
   ]
  },
  {
   "cell_type": "code",
   "execution_count": 8,
   "metadata": {
    "collapsed": true
   },
   "outputs": [],
   "source": [
    "def gmm_cost(data):\n",
    "    ind, gs = [], []\n",
    "    for i in np.power(2, np.arange(0, 1+int(np.log2(len(data))))):\n",
    "        gmm = GaussianMixture(i)\n",
    "        gmm.fit(data)\n",
    "        ind.append(i)\n",
    "        #gs.append([np.log1p(gmm.aic(train)), np.log1p(gmm.bic(train)), gmm.score_samples(train).std()])\n",
    "        gs.append([gmm.aic(data), gmm.bic(data), 1000*gmm.score_samples(data).std()])\n",
    "    return pd.DataFrame(gs, index=ind, columns=['AIC','BIC','STD'])"
   ]
  },
  {
   "cell_type": "code",
   "execution_count": 9,
   "metadata": {
    "collapsed": true
   },
   "outputs": [
    {
     "data": {
      "text/plain": [
       "<matplotlib.axes._subplots.AxesSubplot at 0x7f4353775080>"
      ]
     },
     "execution_count": 9,
     "metadata": {},
     "output_type": "execute_result"
    },
    {
     "data": {
      "image/png": "[encoded data removed]",
      "text/plain": [
       "<Figure size 432x288 with 1 Axes>"
      ]
     },
     "metadata": {
      "needs_background": "light"
     },
     "output_type": "display_data"
    }
   ],
   "source": [
    "gmm_cost(df3).plot(marker='o', logx=True)"
   ]
  },
  {
   "cell_type": "code",
   "execution_count": null,
   "metadata": {
    "collapsed": true
   },
   "outputs": [],
   "source": [
    "gmm = GaussianMixture(2)\n",
    "#gmm = BayesianGaussianMixture(10)\n",
    "gmm.fit(df3)\n",
    "sc = pd.DataFrame([(x, gmm.score(x)) for x in np.linspace(0, 800, 100)], columns=['X','Y'])\n",
    "#sc = pd.DataFrame([(x, gmm.score(np.log(x+1))) for x in np.linspace(0, 800, 100)], columns=['X','Y'])\n",
    "sc.plot.scatter(x='X',y='Y')\n",
    "#gmm.aic(df3), gmm.bic(df3)\n",
    "#sc.X.to_csv('sample.csv', index=False, header=False)\n",
    "#pd.DataFrame(gmm.sample(10000)[0]).plot.kde()"
   ]
  },
  {
   "cell_type": "code",
   "execution_count": null,
   "metadata": {
    "collapsed": true
   },
   "outputs": [],
   "source": [
    "#gmm = MinCovDet()\n",
    "gmm = EmpiricalCovariance()\n",
    "gmm.fit(df3)\n",
    "X = [x for x in np.linspace(10, 800, 100)]\n",
    "#X = df3.values\n",
    "u = np.mean(X)\n",
    "#pd.DataFrame([(x, gmm.score(x)) for x in np.linspace(10, 800, 100)], columns=['X','Y']).plot.scatter(x='X',y='Y')\n",
    "#pd.DataFrame([(x, gmm.mahalanobis(np.reshape([x],(1,1)))[0]) for x in np.linspace(10, 800, 100)], columns=['X','Y']).plot.scatter(x='X',y='Y')\n",
    "#pd.DataFrame([(x, gmm.mahalanobis(np.reshape([x],(1,1)))[0] - u) for x in np.linspace(10, 800, 100)], columns=['X','Y']).plot.scatter(x='X',y='Y')\n",
    "#pd.DataFrame(gmm.sample(10000)[0]).plot.kde()\n",
    "#list(zip(X, list(gmm.mahalanobis(np.reshape(X,(len(X),1)) - u))))\n",
    "\n",
    "#pd.DataFrame(list(zip(X.flatten(), gmm.mahalanobis(X - u))), columns=['X','Y']).plot.scatter(x='X',y='Y')\n",
    "pd.DataFrame(list(zip(X, list(gmm.mahalanobis(np.reshape(X,(len(X),1)) - u)))), columns=['X','Y']).plot.scatter(x='X',y='Y')"
   ]
  },
  {
   "cell_type": "code",
   "execution_count": null,
   "metadata": {
    "collapsed": true
   },
   "outputs": [],
   "source": [
    "def sigmoid(x,a,b,c,d):\n",
    "    s = np.ceil(a/(1 + b*np.e**(-x*c)) + d)\n",
    "    return pd.DataFrame([x, s, x-s, s/x]).T #1/(1 + e**(-x))\n",
    "\n",
    "a = 300#100\n",
    "b = 10#100\n",
    "c = 0.005#0.02\n",
    "d = -25#4\n",
    "\n",
    "#t1 = np.arange(15, 10000, 100)\n",
    "t1 = np.arange(15, 1000, 10)\n",
    "#sigmoid(t1,a,b,c,d)\n",
    "\n",
    "def expx(x):\n",
    "    s = np.ceil(np.power(x, 7/10)) - 2\n",
    "    return pd.DataFrame([x, s, x-s, s/x]).T\n",
    "\n",
    "#expx(t1)"
   ]
  },
  {
   "cell_type": "code",
   "execution_count": null,
   "metadata": {
    "collapsed": true
   },
   "outputs": [],
   "source": [
    "def sigmoid(x,a,b,c,d):\n",
    "    s = a/(1 + b*np.e**(-x*c)) + d\n",
    "    return pd.DataFrame([x, s]).T #1/(1 + e**(-x))\n",
    "\n",
    "a = 1\n",
    "b = 10000 #100\n",
    "c = 0.5 #0.2\n",
    "d = 0\n",
    "\n",
    "t1 = np.linspace(0, 100, 21)\n",
    "sigmoid(t1,a,b,c,d)"
   ]
  },
  {
   "cell_type": "code",
   "execution_count": null,
   "metadata": {
    "collapsed": true
   },
   "outputs": [],
   "source": [
    "def sm(data):\n",
    "    x = data\n",
    "    n = len(data)\n",
    "    #return 1.06*np.std(x)*n**(-1/5)\n",
    "    #return (4/3/n*np.std(x)**5)**(1/5)\n",
    "    return np.std(x)*(4/3/n)**(1/5)\n",
    "\n",
    "sm(df3)"
   ]
  },
  {
   "cell_type": "code",
   "execution_count": null,
   "metadata": {
    "collapsed": true
   },
   "outputs": [],
   "source": [
    "def n_parameters(data, comp):\n",
    "    n_features = data.shape[1]\n",
    "    cov_params = comp * n_features * (n_features + 1) / 2\n",
    "    mean_params = n_features * comp\n",
    "    return int(cov_params + mean_params + comp - 1)\n",
    "n_parameters(df3, 2)"
   ]
  },
  {
   "cell_type": "code",
   "execution_count": null,
   "metadata": {
    "collapsed": true
   },
   "outputs": [],
   "source": [
    "gmm = GaussianMixture(2)\n",
    "gmm.fit(df3)\n",
    "gmm.bic(df3), gmm._n_parameters()"
   ]
  },
  {
   "cell_type": "code",
   "execution_count": null,
   "metadata": {
    "collapsed": true
   },
   "outputs": [],
   "source": [
    "from sklearn.neighbors import KernelDensity\n",
    "kde = KernelDensity(50.9)\n",
    "kde.fit(df3)\n",
    "#bic(df3, kde)\n",
    "kde.score(df3)"
   ]
  },
  {
   "cell_type": "code",
   "execution_count": null,
   "metadata": {
    "collapsed": true
   },
   "outputs": [],
   "source": [
    "from scipy.stats import chisquare\n",
    "def bic(X, model):\n",
    "    return (-2 * model.score(X) * X.shape[0] + model._n_parameters() * np.log(X.shape[0]))\n",
    "    #return (-2 * model.score(X).sum() + model._n_parameters() * np.log(X.shape[0]))\n",
    "    #return chisquare(X)[0][0] + model._n_parameters()*np.log(X.shape[0])\n",
    "    #return X.shape[0]*np.log(np.abs(model.score(X))/X.shape[0]) + model._n_parameters()*np.log(X.shape[0])\n",
    "    #return -2*np.log(model.score(X)) + model._n_parameters()*(np.log(X.shape[0]) - np.log(2*np.pi))\n",
    "gmm.bic(df3),bic(df3, gmm)"
   ]
  },
  {
   "cell_type": "code",
   "execution_count": null,
   "metadata": {
    "collapsed": true
   },
   "outputs": [],
   "source": [
    "def bic_beta(X, model, n_param):\n",
    "    return (-2 * model.score(X) * X.shape[0] + n_param * np.log(X.shape[0]))\n",
    "    #return (-2 * model.score(X).sum() + n_param * np.log(X.shape[0]))\n",
    "    #return chisquare(X)[0][0] + n_param*np.log(X.shape[0])\n",
    "    #return X.shape[0]*np.log(np.abs(model.score(X))/X.shape[0]) + model._n_parameters()*np.log(X.shape[0])\n",
    "    #return -2*np.log(model.score(X)) + model._n_parameters()*(np.log(X.shape[0]) - np.log(2*np.pi))\n",
    "gmm.bic_beta(df3),bic2(df3, gmm, 2)"
   ]
  },
  {
   "cell_type": "code",
   "execution_count": null,
   "metadata": {
    "collapsed": true
   },
   "outputs": [],
   "source": [
    "def kde_cost(data):\n",
    "    ind, gs = [], []\n",
    "    for i in np.power(2, np.arange(0, 1+int(np.log2(len(data))))):\n",
    "        kde = KernelDensity(i)\n",
    "        kde.fit(data)\n",
    "        ind.append(i)\n",
    "        #gs.append([np.log1p(gmm.aic(train)), np.log1p(gmm.bic(train)), gmm.score_samples(train).std()])\n",
    "        gs.append([1000, bic(data, kde, i), 1000*kde.score_samples(data).std()])\n",
    "    return pd.DataFrame(gs, index=ind, columns=['AIC','BIC','STD'])"
   ]
  },
  {
   "cell_type": "code",
   "execution_count": null,
   "metadata": {
    "collapsed": true
   },
   "outputs": [],
   "source": [
    "kde_cost(df3).plot(marker='o', logx=True)"
   ]
  },
  {
   "cell_type": "code",
   "execution_count": null,
   "metadata": {
    "collapsed": true
   },
   "outputs": [],
   "source": [
    "#kde = GaussianMixture(3)\n",
    "kde = KernelDensity(40)\n",
    "#gmm = BayesianGaussianMixture(2)\n",
    "kde.fit(df3)\n",
    "#a = [(x, gmm.score(x)) for x in np.linspace(10, 1000)]\n",
    "sc = pd.DataFrame([(x, kde.score(x)) for x in np.linspace(0, 800, 100)], columns=['X','Y'])\n",
    "#sc = pd.DataFrame([(x, gmm.score(np.log(x+1))) for x in np.linspace(0, 800, 100)], columns=['X','Y'])\n",
    "sc.plot.scatter(x='X',y='Y')\n",
    "#gmm.aic(df3), gmm.bic(df3)\n",
    "#sc.X.to_csv('sample.csv', index=False, header=False)\n",
    "#pd.DataFrame(kde.sample(1000)).plot()"
   ]
  },
  {
   "cell_type": "code",
   "execution_count": null,
   "metadata": {
    "collapsed": true
   },
   "outputs": [],
   "source": [
    "#np.random.seed(1)\n",
    "data = pd.DataFrame(np.append(np.random.randn(100,1) - 10, np.random.randn(100,1) + 10))\n",
    "n = len(data)\n",
    "h = np.std(data)*(4/3/n)**(1/5)\n",
    "phi = lambda x: np.exp(-.5*x**2)/np.sqrt(2*np.pi)\n",
    "ksden = lambda x: npmean(phi((x-data)/h)/h)\n",
    "data.plot(kind='kde')"
   ]
  },
  {
   "cell_type": "code",
   "execution_count": null,
   "metadata": {
    "collapsed": true
   },
   "outputs": [],
   "source": []
  },
  {
   "cell_type": "code",
   "execution_count": null,
   "metadata": {
    "collapsed": true,
    "scrolled": false
   },
   "outputs": [],
   "source": [
    "import itertools\n",
    "from sklearn.mixture import BayesianGaussianMixture\n",
    "\n",
    "a = [np.random.gamma(1.5,100) for x in range(0,750)]\n",
    "b = [np.random.normal(450,50) + 100 for x in range(0,750)]\n",
    "va = pd.DataFrame(np.concatenate([a,b]), columns=['f1'])\n",
    "a = [np.random.gamma(1,2)*500 + 1000 for x in range(0,500)]\n",
    "b = [np.random.beta(2,2)*1000 + 5000 for x in range(0,500)]\n",
    "c = [np.random.standard_cauchy() + 4000 for x in range(0,500)]\n",
    "va['f2'] = np.concatenate([a,b,c])\n",
    "\n",
    "#va2.plot(kind='kde')\n",
    "#va.plot(kind='kde')\n",
    "#va.plot(kind='scatter', x='f1', y='f2')\n",
    "x = [np.floor(x) for x in np.linspace(-500, 1000, 50)]\n",
    "y = [np.floor(x) for x in np.linspace(-5000, 10000, 50)]\n",
    "tst = pd.DataFrame(list(itertools.product(x, y)), columns=['x','y'])\n",
    "\n",
    "#gmm = BayesianGaussianMixture(16, n_init=3)\n",
    "gmm = GaussianMixture(8, n_init=10, tol=0.0001, max_iter=1000)\n",
    "gmm.fit(va)\n",
    "#scr = pd.DataFrame([tst,gmm.score_samples(tst)])\n",
    "#va2 = va.copy()\n",
    "tst['scr'] = gmm.score_samples(tst)\n",
    "#va2.plot(kind='scatter', x='f1', y='f2', c='scr')\n",
    "#scr\n",
    "#tst.plot(kind='scatter', x='x', y='y', c='scr', colormap='rainbow')\n",
    "\n",
    "fig, ax = plt.subplots()\n",
    "tst.plot.scatter(x='x', y='y', c='scr', colormap='rainbow', label='Score', ax=ax)\n",
    "va.plot.scatter(x='f1', y='f2', c='grey', label='Teste', ax=ax)\n",
    "tst.plot.scatter(x='x', y='y', c='scr', colormap='rainbow', ax=ax)"
   ]
  },
  {
   "cell_type": "code",
   "execution_count": null,
   "metadata": {
    "collapsed": true,
    "scrolled": false
   },
   "outputs": [],
   "source": [
    "import itertools\n",
    "from sklearn.svm import OneClassSVM\n",
    "\n",
    "a = [np.random.gamma(1.5,100) for x in range(0,750)]\n",
    "b = [np.random.normal(450,50) + 100 for x in range(0,750)]\n",
    "va = pd.DataFrame(np.concatenate([a,b]), columns=['f1'])\n",
    "a = [np.random.gamma(1,2)*500 + 1000 for x in range(0,500)]\n",
    "b = [np.random.beta(2,2)*1000 + 5000 for x in range(0,500)]\n",
    "c = [np.random.standard_cauchy() + 4000 for x in range(0,500)]\n",
    "va['f2'] = np.concatenate([a,b,c])\n",
    "\n",
    "#va2.plot(kind='kde')\n",
    "#va.plot(kind='kde')\n",
    "#va.plot(kind='scatter', x='f1', y='f2')\n",
    "x = [np.floor(x) for x in np.linspace(-500, 1000, 50)]\n",
    "y = [np.floor(x) for x in np.linspace(-5000, 10000, 50)]\n",
    "tst = pd.DataFrame(list(itertools.product(x, y)), columns=['x','y'])\n",
    "\n",
    "#gmm = BayesianGaussianMixture(16, n_init=3)\n",
    "gmm = OneClassSVM(gamma=1e-5)\n",
    "gmm.fit(va)\n",
    "#scr = pd.DataFrame([tst,gmm.score_samples(tst)])\n",
    "#va2 = va.copy()\n",
    "tst['scr'] = gmm.decision_function(tst)\n",
    "#va2.plot(kind='scatter', x='f1', y='f2', c='scr')\n",
    "#scr\n",
    "#tst.plot(kind='scatter', x='x', y='y', c='scr', colormap='rainbow')\n",
    "\n",
    "fig, ax = plt.subplots()\n",
    "tst.plot.scatter(x='x', y='y', c='scr', colormap='rainbow', label='Score', ax=ax)\n",
    "va.plot.scatter(x='f1', y='f2', c='grey', label='Test', ax=ax)\n",
    "tst.plot.scatter(x='x', y='y', c='scr', colormap='rainbow', ax=ax)"
   ]
  },
  {
   "cell_type": "code",
   "execution_count": null,
   "metadata": {
    "collapsed": true
   },
   "outputs": [],
   "source": []
  },
  {
   "cell_type": "code",
   "execution_count": null,
   "metadata": {
    "collapsed": true
   },
   "outputs": [],
   "source": [
    "tn = 2\n",
    "train = pd.read_csv('/home/user/data/train{}.csv'.format(tn), header=None)\n",
    "test = pd.read_csv('/home/user/data/test{}.csv'.format(tn), header=None)\n",
    "#gmm = GaussianMixture(tn*2, random_state=0)#n_init=10, tol=0.0001, max_iter=1000\n",
    "gmm = GaussianMixture(tn*2, random_state=0, n_init=10, tol=0.001, max_iter=1000)\n",
    "#gmm = BayesianGaussianMixture(4, n_init=10)\n",
    "# print('Passo 1')\n",
    "gmm.fit(train)\n",
    "#exportJson(gmm, '/home/user/data/train{}.json'.format(tn))\n",
    "print('weights', gmm.weights_)\n",
    "print('means', gmm.means_)\n",
    "print('model covariances\\n', gmm.covariances_)\n",
    "\n",
    "#with open('/home/user/data/train{}.json'.format(tn)) as fi:\n",
    "#    covariances = np.array(json.load(fi)['covariances'])\n",
    "#print(\"json covariance\\n\", covariances)\n",
    "#print('precisions_cholesky', gmm.precisions_cholesky_)\n",
    "#   print('compute_precision_cholesky\\n', compute_precision_cholesky2(covariances))\n",
    "#print(gmm.covariances_.shape, covariances.shape)\n",
    "# print('Passo 2')\n",
    "scs = gmm.score_samples(test[0:2])\n",
    "# print('Passo 3')\n",
    "print(list(scs))\n",
    "# print('Passo 4')\n",
    "#scs2 = score_samples_re(test[0:3], gmm.means_, gmm.weights_, gmm.precisions_cholesky_)\n",
    "#print(scs2)\n",
    "# print(gmm.bic(train))\n",
    "# print(bic(train, gmm))\n"
   ]
  },
  {
   "cell_type": "code",
   "execution_count": null,
   "metadata": {
    "collapsed": true
   },
   "outputs": [],
   "source": [
    "import avro.schema\n",
    "from avro.datafile import DataFileReader, DataFileWriter\n",
    "from avro.io import DatumReader, DatumWriter"
   ]
  },
  {
   "cell_type": "code",
   "execution_count": null,
   "metadata": {
    "collapsed": true
   },
   "outputs": [],
   "source": [
    "a = {\"weights\":gmm.weights_.tolist()}\n",
    "b = {\"weights\":gmm.weights_.tolist(), \"means\":gmm.means_.tolist()}\n",
    "c = {\"weights\":gmm.weights_.tolist(), \"means\":gmm.means_.tolist(), 'covariances': gmm.covariances_.tolist()}"
   ]
  },
  {
   "cell_type": "code",
   "execution_count": null,
   "metadata": {
    "collapsed": true
   },
   "outputs": [],
   "source": [
    "schema = avro.schema.Parse(open(\"/home/user/gaussian_mixture/src/main/resources/gmm.avsc\", \"rb\").read())\n",
    "\n",
    "writer = DataFileWriter(open(\"/home/user/gaussian_mixture/src/main/resources/gmm.avro\", \"wb\"), DatumWriter(), schema)\n",
    "#writer.append({\"weights\":gmm.weights_.tolist()})\n",
    "#writer.append({\"weights\":gmm.weights_.tolist(), \"means\":gmm.means_.tolist()})\n",
    "writer.append(c)\n",
    "writer.close()"
   ]
  },
  {
   "cell_type": "code",
   "execution_count": null,
   "metadata": {
    "collapsed": true
   },
   "outputs": [],
   "source": [
    "reader = DataFileReader(open(\"/home/user/data/gmm.avro\", \"rb\"), DatumReader())\n",
    "for user in reader:\n",
    "    print(user)\n",
    "reader.close()"
   ]
  },
  {
   "cell_type": "code",
   "execution_count": null,
   "metadata": {
    "collapsed": true
   },
   "outputs": [],
   "source": []
  }
 ],
 "metadata": {
  "kernelspec": {
   "display_name": "Python 3",
   "language": "python",
   "name": "python3"
  },
  "language_info": {
   "codemirror_mode": {
    "name": "ipython",
    "version": 3
   },
   "file_extension": ".py",
   "mimetype": "text/x-python",
   "name": "python",
   "nbconvert_exporter": "python",
   "pygments_lexer": "ipython3",
   "version": "3.7.3"
  }
 },
 "nbformat": 4,
 "nbformat_minor": 2
}
